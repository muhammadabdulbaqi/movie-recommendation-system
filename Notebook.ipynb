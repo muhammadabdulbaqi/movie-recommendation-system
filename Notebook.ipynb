{
 "cells": [
  {
   "cell_type": "markdown",
   "id": "d18ae3a2",
   "metadata": {},
   "source": [
    "Project Overview and Goals"
   ]
  },
  {
   "cell_type": "markdown",
   "id": "fa7923dc",
   "metadata": {},
   "source": [
    "# 🎬 Movie Recommender System (MVP)\n",
    "\n",
    "## 🧠 Project Overview\n",
    "This is a beginner-friendly **Movie Recommender System** built using content-based filtering. It aims to suggest movies similar to a user's input based on features like genres, keywords, and plot metadata.\n",
    "\n",
    "The project follows the **Software Development Life Cycle (SDLC)** to demonstrate clean design, modularity, and progressive improvement.\n",
    "\n",
    "---\n",
    "\n",
    "## 📌 Goals\n",
    "\n",
    "### ✅ Minimum Viable Product (MVP)\n",
    "- Load and explore a movie metadata dataset (e.g., from TMDb or IMDB)\n",
    "- Preprocess features like genres, overview, cast, and keywords\n",
    "- Create a content-based recommender using TF-IDF and cosine similarity\n",
    "- Allow a user to input a movie and receive top 5 similar recommendations\n",
    "\n",
    "### 🔄 Expansion Ideas\n",
    "- Add collaborative filtering using user ratings\n",
    "- Use BERT or sentence transformers for better plot similarity\n",
    "- Personalize recommendations using user history or favorites\n",
    "- Build a Streamlit or Flask app interface\n",
    "\n",
    "---\n",
    "\n",
    "## 📁 Tech Stack\n",
    "- **Python**\n",
    "- **Pandas**, **NumPy** for data handling\n",
    "- **Scikit-learn** for vectorization and similarity\n",
    "- **Streamlit** (optional) for frontend\n",
    "- **TMDb API** or Kaggle dataset as data source\n",
    "\n",
    "---\n",
    "\n",
    "> This notebook is designed to be self-contained and modular for easy iteration and expansion.\n"
   ]
  },
  {
   "cell_type": "markdown",
   "id": "0ce46a66",
   "metadata": {},
   "source": [
    "Data Loading"
   ]
  },
  {
   "cell_type": "markdown",
   "id": "dc1fc2a9",
   "metadata": {},
   "source": [
    "Preprocessing "
   ]
  },
  {
   "cell_type": "markdown",
   "id": "5b4fc13f",
   "metadata": {},
   "source": [
    "TF-IDF Vectorization"
   ]
  },
  {
   "cell_type": "markdown",
   "id": "df27fbb2",
   "metadata": {},
   "source": [
    "Similarity Calculation"
   ]
  },
  {
   "cell_type": "markdown",
   "id": "6fcf99ce",
   "metadata": {},
   "source": [
    "Recommender Function"
   ]
  },
  {
   "cell_type": "markdown",
   "id": "f758d467",
   "metadata": {},
   "source": [
    "UI"
   ]
  },
  {
   "cell_type": "markdown",
   "id": "cd0dea77",
   "metadata": {},
   "source": [
    "Testing"
   ]
  },
  {
   "cell_type": "code",
   "execution_count": 1,
   "id": "01c49729",
   "metadata": {},
   "outputs": [],
   "source": [
    "import os\n",
    "from dotenv import load_dotenv\n",
    "\n",
    "load_dotenv()\n",
    "API_KEY = os.getenv(\"TMDB_API_KEY\")\n"
   ]
  },
  {
   "cell_type": "code",
   "execution_count": 2,
   "id": "4dd9b538",
   "metadata": {},
   "outputs": [],
   "source": [
    "import requests\n",
    "\n",
    "def search_movie(query, api_key):\n",
    "    url = f\"https://api.themoviedb.org/3/search/movie\"\n",
    "    params = {\n",
    "        \"api_key\": api_key,\n",
    "        \"query\": query\n",
    "    }\n",
    "    response = requests.get(url, params=params)\n",
    "    return response.json()\n"
   ]
  },
  {
   "cell_type": "code",
   "execution_count": 7,
   "id": "01cbf4cc",
   "metadata": {},
   "outputs": [],
   "source": [
    "result = search_movie(\"Inception\", API_KEY)"
   ]
  },
  {
   "cell_type": "code",
   "execution_count": 8,
   "id": "36b927a7",
   "metadata": {},
   "outputs": [],
   "source": [
    "movie_id = result['results'][0]['id']"
   ]
  },
  {
   "cell_type": "code",
   "execution_count": 9,
   "id": "ab75f11b",
   "metadata": {},
   "outputs": [],
   "source": [
    "def get_tmdb_recommendations(movie_id, api_key):\n",
    "    url = f\"https://api.themoviedb.org/3/movie/{movie_id}/recommendations\"\n",
    "    params = {\n",
    "        \"api_key\": api_key\n",
    "    }\n",
    "    response = requests.get(url, params=params)\n",
    "    return response.json()\n"
   ]
  },
  {
   "cell_type": "code",
   "execution_count": 10,
   "id": "52b3cf9a",
   "metadata": {},
   "outputs": [],
   "source": [
    "def get_movie_details(movie_id, api_key):\n",
    "    url = f\"https://api.themoviedb.org/3/movie/{movie_id}\"\n",
    "    params = {\n",
    "        \"api_key\": api_key\n",
    "    }\n",
    "    response = requests.get(url, params=params)\n",
    "    return response.json()\n"
   ]
  }
 ],
 "metadata": {
  "kernelspec": {
   "display_name": "Python 3",
   "language": "python",
   "name": "python3"
  },
  "language_info": {
   "codemirror_mode": {
    "name": "ipython",
    "version": 3
   },
   "file_extension": ".py",
   "mimetype": "text/x-python",
   "name": "python",
   "nbconvert_exporter": "python",
   "pygments_lexer": "ipython3",
   "version": "3.12.8"
  }
 },
 "nbformat": 4,
 "nbformat_minor": 5
}

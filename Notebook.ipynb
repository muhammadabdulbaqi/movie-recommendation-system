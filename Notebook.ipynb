{
 "cells": [
  {
   "cell_type": "markdown",
   "id": "d18ae3a2",
   "metadata": {},
   "source": [
    "Project Overview and Goals"
   ]
  },
  {
   "cell_type": "markdown",
   "id": "fa7923dc",
   "metadata": {},
   "source": [
    "# 🎬 Movie Recommender System (MVP)\n",
    "\n",
    "## 🧠 Project Overview\n",
    "This is a beginner-friendly **Movie Recommender System** built using content-based filtering. It aims to suggest movies similar to a user's input based on features like genres, keywords, and plot metadata.\n",
    "\n",
    "The project follows the **Software Development Life Cycle (SDLC)** to demonstrate clean design, modularity, and progressive improvement.\n",
    "\n",
    "---\n",
    "\n",
    "## 📌 Goals\n",
    "\n",
    "### ✅ Minimum Viable Product (MVP)\n",
    "- Load and explore a movie metadata dataset (e.g., from TMDb or IMDB)\n",
    "- Preprocess features like genres, overview, cast, and keywords\n",
    "- Create a content-based recommender using TF-IDF and cosine similarity\n",
    "- Allow a user to input a movie and receive top 5 similar recommendations\n",
    "\n",
    "### 🔄 Expansion Ideas\n",
    "- Add collaborative filtering using user ratings\n",
    "- Use BERT or sentence transformers for better plot similarity\n",
    "- Personalize recommendations using user history or favorites\n",
    "- Build a Streamlit or Flask app interface\n",
    "\n",
    "---\n",
    "\n",
    "## 📁 Tech Stack\n",
    "- **Python**\n",
    "- **Pandas**, **NumPy** for data handling\n",
    "- **Scikit-learn** for vectorization and similarity\n",
    "- **Streamlit** (optional) for frontend\n",
    "- **TMDb API** or Kaggle dataset as data source\n",
    "\n",
    "---\n",
    "\n",
    "> This notebook is designed to be self-contained and modular for easy iteration and expansion.\n"
   ]
  },
  {
   "cell_type": "markdown",
   "id": "0ce46a66",
   "metadata": {},
   "source": [
    "### Data Loading"
   ]
  },
  {
   "cell_type": "markdown",
   "id": "7d2d9cb2",
   "metadata": {},
   "source": [
    "Imports"
   ]
  },
  {
   "cell_type": "code",
   "execution_count": 1,
   "id": "7aad016f",
   "metadata": {},
   "outputs": [],
   "source": [
    "import requests\n",
    "import os\n",
    "import time\n",
    "import json\n",
    "from dotenv import load_dotenv"
   ]
  },
  {
   "cell_type": "markdown",
   "id": "4d373d5e",
   "metadata": {},
   "source": [
    "Setup"
   ]
  },
  {
   "cell_type": "code",
   "execution_count": 4,
   "id": "9e3b000b",
   "metadata": {},
   "outputs": [],
   "source": [
    "load_dotenv()\n",
    "API_KEY = os.getenv(\"TMDB_API_KEY\")\n",
    "BASE_URL = \"https://api.themoviedb.org/3\"\n",
    "\n",
    "# Save progress in case of error\n",
    "OUTPUT_FILE = \"movie_metadata.json\""
   ]
  },
  {
   "cell_type": "markdown",
   "id": "3d52e614",
   "metadata": {},
   "source": [
    "API Calls (Helper Functions)"
   ]
  },
  {
   "cell_type": "code",
   "execution_count": 11,
   "id": "667c81a8",
   "metadata": {},
   "outputs": [],
   "source": [
    "def get_popular_movies(page, api_key=API_KEY):\n",
    "    url = f\"{BASE_URL}/movie/popular\"\n",
    "    params = {\"api_key\": api_key, \"page\": page}\n",
    "    return requests.get(url, params=params).json()\n",
    "\n",
    "def get_top_rated_movies(page, api_key=API_KEY):\n",
    "    url = f\"{BASE_URL}/movie/top_rated\"\n",
    "    params = {\"api_key\": api_key, \"page\": page}\n",
    "    return requests.get(url, params=params).json()\n",
    "\n",
    "def get_movie_details(movie_id, api_key=API_KEY):\n",
    "    url = f\"{BASE_URL}/movie/{movie_id}\"\n",
    "    params = {\"api_key\": api_key}\n",
    "    return requests.get(url, params=params).json()\n",
    "\n",
    "def get_movie_credits(movie_id, api_key=API_KEY):\n",
    "    url = f\"{BASE_URL}/movie/{movie_id}/credits\"\n",
    "    params = {\"api_key\": api_key}\n",
    "    return requests.get(url, params=params).json()\n",
    "\n",
    "def get_movie_keywords(movie_id, api_key=API_KEY):\n",
    "    url = f\"{BASE_URL}/movie/{movie_id}/keywords\"\n",
    "    params = {\"api_key\": api_key}\n",
    "    return requests.get(url, params=params).json()\n"
   ]
  },
  {
   "cell_type": "markdown",
   "id": "f9e0d377",
   "metadata": {},
   "source": [
    "Metadata - What to store in our DB"
   ]
  },
  {
   "cell_type": "code",
   "execution_count": 12,
   "id": "94a09768",
   "metadata": {},
   "outputs": [],
   "source": [
    "def collect_movie_metadata(movie):\n",
    "    movie_id = movie.get(\"id\")\n",
    "    try:\n",
    "        details = get_movie_details(movie_id)\n",
    "        credits = get_movie_credits(movie_id)\n",
    "        keywords = get_movie_keywords(movie_id)\n",
    "\n",
    "        genres = [g['name'] for g in details.get(\"genres\", [])]\n",
    "        top_cast = [member['name'] for member in credits.get(\"cast\", [])[:5]]\n",
    "        director = next((c['name'] for c in credits.get(\"crew\", []) if c['job'] == 'Director'), None)\n",
    "        keyword_list = [kw['name'] for kw in keywords.get(\"keywords\", [])]\n",
    "        production_companies = [p['name'] for p in details.get(\"production_companies\", [])]\n",
    "\n",
    "        return {\n",
    "            \"id\": movie_id,\n",
    "            \"title\": details.get(\"title\"),\n",
    "            \"overview\": details.get(\"overview\"),\n",
    "            \"genres\": genres,\n",
    "            \"keywords\": keyword_list,\n",
    "            \"top_cast\": top_cast,\n",
    "            \"director\": director,\n",
    "            \"release_year\": details.get(\"release_date\", \"\")[:4],\n",
    "            \"runtime\": details.get(\"runtime\"),\n",
    "            \"budget\": details.get(\"budget\"),\n",
    "            \"revenue\": details.get(\"revenue\"),\n",
    "            \"popularity\": details.get(\"popularity\"),\n",
    "            \"vote_average\": details.get(\"vote_average\"),\n",
    "            \"vote_count\": details.get(\"vote_count\"),\n",
    "            \"original_language\": details.get(\"original_language\"),\n",
    "            \"production_companies\": production_companies\n",
    "        }\n",
    "    except Exception as e:\n",
    "        print(f\"[ERROR] Skipping movie ID {movie_id}: {e}\")\n",
    "        return None\n"
   ]
  },
  {
   "cell_type": "markdown",
   "id": "d0228ce9",
   "metadata": {},
   "source": [
    "Crawling call"
   ]
  },
  {
   "cell_type": "code",
   "execution_count": 14,
   "id": "dcb5da8e",
   "metadata": {},
   "outputs": [],
   "source": [
    "if False: \n",
    "    all_metadata = []\n",
    "    pages_to_fetch = 25  # 25 pages × 20 movies = 500 total\n",
    "    calls = 0\n",
    "\n",
    "    def get_top_rated_movies(page, api_key=API_KEY):\n",
    "        url = f\"{BASE_URL}/movie/top_rated\"\n",
    "        params = {\"api_key\": api_key, \"page\": page}\n",
    "        return requests.get(url, params=params).json()\n",
    "\n",
    "    for page in range(1, pages_to_fetch + 1):\n",
    "        print(f\"Fetching page {page} of top-rated movies\")\n",
    "        page_data = get_top_rated_movies(page)\n",
    "        \n",
    "        for movie in page_data.get(\"results\", []):\n",
    "            metadata = collect_movie_metadata(movie)\n",
    "            if metadata:\n",
    "                all_metadata.append(metadata)\n",
    "\n",
    "            # Track rate-limited calls (approx 3 calls per movie)\n",
    "            calls += 3\n",
    "            if calls % 12 == 0:\n",
    "                time.sleep(1.5)  # Pause after every ~12 API calls\n",
    "        \n",
    "        # Save progress after each page\n",
    "        with open(OUTPUT_FILE, \"w\", encoding=\"utf-8\") as f:\n",
    "            json.dump(all_metadata, f, ensure_ascii=False, indent=2)\n",
    "\n",
    "    print(f\"\\n✅ Finished fetching {len(all_metadata)} movies.\")\n"
   ]
  },
  {
   "cell_type": "markdown",
   "id": "dc1fc2a9",
   "metadata": {},
   "source": [
    "### Preprocessing "
   ]
  },
  {
   "cell_type": "markdown",
   "id": "5b4fc13f",
   "metadata": {},
   "source": [
    "### TF-IDF Vectorization"
   ]
  },
  {
   "cell_type": "markdown",
   "id": "df27fbb2",
   "metadata": {},
   "source": [
    "### Similarity Calculation"
   ]
  },
  {
   "cell_type": "markdown",
   "id": "6fcf99ce",
   "metadata": {},
   "source": [
    "### Recommender Function"
   ]
  },
  {
   "cell_type": "markdown",
   "id": "f758d467",
   "metadata": {},
   "source": [
    "### UI"
   ]
  }
 ],
 "metadata": {
  "kernelspec": {
   "display_name": "Python 3",
   "language": "python",
   "name": "python3"
  },
  "language_info": {
   "codemirror_mode": {
    "name": "ipython",
    "version": 3
   },
   "file_extension": ".py",
   "mimetype": "text/x-python",
   "name": "python",
   "nbconvert_exporter": "python",
   "pygments_lexer": "ipython3",
   "version": "3.12.8"
  }
 },
 "nbformat": 4,
 "nbformat_minor": 5
}
